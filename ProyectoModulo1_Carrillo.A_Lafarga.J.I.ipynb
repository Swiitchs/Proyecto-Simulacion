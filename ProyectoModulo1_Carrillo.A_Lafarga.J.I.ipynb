{
 "cells": [
  {
   "cell_type": "markdown",
   "metadata": {},
   "source": [
    "### Integrantes :  \n",
    "- $Adrian Carrillo$\n",
    "- $Ivan Lafarga$\n",
    "\n",
    "<img style=\"float: right; margin: 0px 0px 15px 15px;\" src=\" http://www.linkbyme.com.mx/statoimg/46/logo-46678-607-b.jpg\" width=\"300px\" height=\"100px\" />\n",
    "\n",
    "\n",
    "# Proyecto Metales Marchina.  \n",
    "### [Metmarchina](https://www.metmarchina.com)  \n",
    ">Venta de acero de la empresa Marcina con diferentes articulos .\n",
    " El proyecto es un problema que se puede modelar con las herramientas vistas en el módulo.\n",
    " En el caso se reolvio por medio de Programación lineal."
   ]
  },
  {
   "cell_type": "markdown",
   "metadata": {},
   "source": [
    "#  Objetivos.\n",
    "> - En este trabajo propondremos una solución a un problema real aplicado en los articulos disponibles de venta de aluminio para dar un resultado por medio de programacion lineal vista en el curso. Daremos una solución para maximizar la producción de fabricación de placas de aluminio, y así, el beneficio de las ventas\n",
    "\n",
    "> ####  Objetivo general.\n",
    ">  - Se pone en práctica un tema visto en clase para darle una solución optima a un caso en a vida real \n",
    ">  - Máximo beneficio de la fabricación de acero de la empresa Metales Marchina por medio de programacion lineal en el lenguaje  Python, usando el IDE Jupyter.\n",
    "\n",
    "> ####  Objetivos específicos\n",
    "> - En la empresa Metales Mar China SA de CV, se fabrican placas de aluminio de diferentes medidas. Se tienen 600kg de acero en almacén y se quiere saber la cantidad de metros de placa de aluminio de 1\" y de 3/4\" a producir.\n",
    "> - El objetivo es conocer la cantidad de metros de barra y de placa que hay que fabricar para maximizar las ventas.\n",
    "> - Debido a falta de insumos para las maquinas, no se pueden fabricar más de 10 metros de placa de 1\", ni más de 3 metros de placa de 3/4\"."
   ]
  },
  {
   "cell_type": "markdown",
   "metadata": {},
   "source": [
    "### 2.3 Modelo que representa el problema.\n",
    "\n",
    "> - En la empresa Metales Mar China SA de CV, se fabrican placas de aluminio de diferentes medidas. Se tienen 600kg de acero y se quiere saber la cantidad de metros de placa de aluminio de 1\" y de 3/4\" a producir.\n",
    "> - Para producir un metro de placa de 1\", se requieren 64.92 kg de acero, mientras que para fabricar una placa de 3/4\", se requieren 40.85 kg. Cada metro de placa de 1\" se vende en 9153.75 pesos, mientras que cada metro de placa de 3/4\" se vende en 7347.20 pesos.\n",
    "> - Debido a falta de insumos para las maquinas, no se pueden fabricar más de 10 metros de placa de 1\", ni más de 3 metros de placa de 3/4\".\n",
    "\n",
    "| Producto | Aluminio necesario (kg) | Precio (Pesos) | Longitud máxima de producto a producir |\n",
    "| --- | --- | --- | --- |\n",
    "| Placa 1\" | 64.92 | 9153.75 | 10 |\n",
    "| Placa 3/4\" | 48.85 | 7347.20 | 3 |\n",
    "\n",
    ">Se desea saber la cantidad de metros de barra y de placa que hay que fabricar para maximizar las ventas.\n",
    "\n",
    "#### 2.3.1 Planteamiento de la función objetivo y restricciones\n",
    ">#### **Funcion Objetivo:**\n",
    "> - Max $9153.75X_a+7347.20X_b$\n",
    "> - En donde $X_a$ representa los metros a producir de la placa de 1\", mientras que $X_b$ representa los metros de placa de 3/4\".\n",
    "\n",
    ">#### **Con las siguientes restricciones:**\n",
    ">* $64.92X_a+48.85X_b\\leq600$ (La cantidad de aluminio necesaria no debe exceder los 600kg disponibles en el almacén)\n",
    ">* $X_a\\leq10$ (Se deben producir menos de 10 metros de placa de 1\")\n",
    ">* $X_b\\leq3$ (Se deben producir menos de 3 metros de placa de 3/4\")"
   ]
  },
  {
   "cell_type": "markdown",
   "metadata": {},
   "source": [
    "### 2.4 Solución del problema de optimización."
   ]
  },
  {
   "cell_type": "code",
   "execution_count": 13,
   "metadata": {},
   "outputs": [],
   "source": [
    "for name in dir():\n",
    "    if not name.startswith('_'):\n",
    "        del globals()[name]\n",
    "        \n",
    "import numpy as np\n",
    "import scipy.optimize as opt"
   ]
  },
  {
   "cell_type": "code",
   "execution_count": 14,
   "metadata": {},
   "outputs": [
    {
     "data": {
      "text/plain": [
       "     con: array([], dtype=float64)\n",
       "     fun: -85978.25954251386\n",
       " message: 'Optimization terminated successfully.'\n",
       "     nit: 3\n",
       "   slack: array([0.        , 3.01524954, 0.        ])\n",
       "  status: 0\n",
       " success: True\n",
       "       x: array([6.98475046, 3.        ])"
      ]
     },
     "execution_count": 14,
     "metadata": {},
     "output_type": "execute_result"
    }
   ],
   "source": [
    "c=np.array([-9153.75,-7347.20]) #funcion objetivo\n",
    "A=np.array([[64.92,48.85],[1,0],[0,1]]) #ecuaciones de restriccion\n",
    "b=np.array([600,10,3]) #ecuaciones de restriccion\n",
    "\n",
    "\n",
    "\n",
    "sol=opt.linprog(c,A,b, method='simplex')\n",
    "sol"
   ]
  },
  {
   "cell_type": "code",
   "execution_count": 31,
   "metadata": {},
   "outputs": [
    {
     "name": "stdout",
     "output_type": "stream",
     "text": [
      "Se deben producir 6.98 metros de placa de 1\" y 3.00 metros de placa de 3/4\" para maximizar las utilidades\n",
      "La utilidad de placa de 1\" es de 63936.66 pesos, y 22041.60 pesos de la placa de 3/4\n",
      "La utilidad total es de 85978.26 pesos\n",
      "La cantidad de kg de aluminio a usar, es de 600.00 kg\n"
     ]
    }
   ],
   "source": [
    "print ('Se deben producir {:.2f} metros de placa de 1\" y {:.2f} metros de placa de 3/4\" para maximizar las utilidades'.format(sol.x[0], sol.x[1]))\n",
    "print ('La utilidad de placa de 1\" es de {:.2f} pesos, y {:.2f} pesos de la placa de 3/4'.format(-sol.x[0]*c[0], -sol.x[1]*c[1]))\n",
    "print ('La utilidad total es de {:.2f} pesos'.format(-sol.x[0]*c[0]+(-sol.x[1]*c[1])))\n",
    "print ('La cantidad de kg de aluminio a usar, es de {:.2f} kg'.format(sol.x[0]*A[0,0]+sol.x[1]*A[0,1]))"
   ]
  },
  {
   "cell_type": "markdown",
   "metadata": {},
   "source": [
    "### 2.5 Visualización de la solución del problema."
   ]
  },
  {
   "cell_type": "markdown",
   "metadata": {},
   "source": [
    "> - En la siguiente tabla se muestran los resultados de la optimización:\n",
    "\n",
    "| Producto | Metros a producir | Venta por metro | Venta total por producto |\n",
    "| --- | --- | --- | --- |\n",
    "| Placa 1\" | 6.98 | 9153.75 | 63936.66 |\n",
    "| Placa 3/4\" | 3 | 7347.20 | 22041.60 |\n",
    "|  |  |  |  |\n",
    "|  |  | **Total** | $ **85978.26** |\n",
    "\n",
    "> - De igual manera, podemos comprobar que se cumplieron las restricciones con la siguiente tabla:\n",
    "\n",
    "| Producto | Metros a producir | Aluminio por metro (kg) | Aluminio total (kg) |\n",
    "| --- | --- | --- | --- |\n",
    "| Placa 1\" | 6.98 | 64.92 | 453.14 |\n",
    "| Placa 3/4\" | 3 | 48.85 | 146.55 |\n",
    "|  |  |  |  |\n",
    "|  |  | **Total** | **600.00** |\n"
   ]
  },
  {
   "cell_type": "markdown",
   "metadata": {},
   "source": [
    "### 2.6 Conclusiones.\n",
    "> - Como podemos observar, la solución óptima sería producir 6.98 metros de placa de 1\" y 3 metros de placa de 3/4\" para maximizar las utilidades. Podemos comprobar que la solución cumple las restricciones, pues los metros a producir de placa de 1\" no excede los 10 metros posibles, al igual que los 3 metros de placa de 3/4\" no exceden los 3 metros disponibles.\n",
    "> - También, podemos comprobar que la solución no rebasa los 600 kg disponibles de material.\n",
    "> - Sin embargo, hay que tener en cuenta que si la empresa vende placas enteras de metro cada una, el resultado sería 7 metros de placa de 1\", y la cantidad de material sería de 601 kg. Dependiendo de la precisión con la que se obtuvo el dato de los kg disponibles en bodega, se podrían fabricar 7 metros."
   ]
  },
  {
   "cell_type": "markdown",
   "metadata": {},
   "source": [
    "###  Referencias\n",
    "> Guillermo Jimenez , Victor Manuel Quesada. (2006). Cien Problemas de Programacion Lineal. Sede Manizales: Universidad Nacional de Colombia."
   ]
  }
 ],
 "metadata": {
  "kernelspec": {
   "display_name": "Python 3",
   "language": "python",
   "name": "python3"
  },
  "language_info": {
   "codemirror_mode": {
    "name": "ipython",
    "version": 3
   },
   "file_extension": ".py",
   "mimetype": "text/x-python",
   "name": "python",
   "nbconvert_exporter": "python",
   "pygments_lexer": "ipython3",
   "version": "3.7.6"
  }
 },
 "nbformat": 4,
 "nbformat_minor": 4
}
